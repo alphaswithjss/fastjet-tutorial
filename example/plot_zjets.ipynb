{
 "cells": [
  {
   "cell_type": "markdown",
   "metadata": {},
   "source": [
    "# Plot ungroomed and groomed masses\n",
    "\n",
    "Here we execute a pythia configuration (in \"test.cfg\" below) for 10000 events, and cluster with AK8. We then compare the ungroomed mass to the groomed mass with soft drop, $\\beta=0$ (aka MMDT), $\\beta=1$, and $\\beta=2$."
   ]
  },
  {
   "cell_type": "markdown",
   "metadata": {},
   "source": [
    "## Execute the C++ executable"
   ]
  },
  {
   "cell_type": "code",
   "execution_count": 19,
   "metadata": {},
   "outputs": [
    {
     "data": {
      "text/plain": [
       "0"
      ]
     },
     "execution_count": 19,
     "metadata": {},
     "output_type": "execute_result"
    }
   ],
   "source": [
    "import subprocess\n",
    "\n",
    "subprocess.call(['./pythia2fastjet', 'test.cfg', '10000'])"
   ]
  },
  {
   "cell_type": "markdown",
   "metadata": {},
   "source": [
    "## Plot the masses\n",
    "\n",
    "The C++ executable creates a text file (\"config_nEvents_output.txt\") that contains 7 fields:\n",
    "\n",
    "`pT eta phi m(ungroomed) m(groomed,beta=0) m(groomed,beta=1) m(groomed,beta=2)`\n",
    "\n",
    "We create a simple histogram to compare them. "
   ]
  },
  {
   "cell_type": "code",
   "execution_count": 21,
   "metadata": {},
   "outputs": [
    {
     "data": {
      "image/png": "[encoded data removed]",
      "text/plain": [
       "<Figure size 432x288 with 1 Axes>"
      ]
     },
     "metadata": {},
     "output_type": "display_data"
    }
   ],
   "source": [
    "from matplotlib import pyplot as plt\n",
    "import numpy\n",
    "\n",
    "pts = []\n",
    "etas = []\n",
    "phis = []\n",
    "mus = []\n",
    "mb0s = []\n",
    "mb1s = []\n",
    "mb2s = []\n",
    "\n",
    "with open(\"test.cfg_n10000_output.txt\") as f: \n",
    "    data = f.readlines() \n",
    "    for idata in data:\n",
    "        pt,eta,phi,mu,mb0,mb1,mb2 = [ float(x) for x in idata.rstrip().split() ]\n",
    "        pts.append(pt)\n",
    "        etas.append(eta)\n",
    "        phis.append(phi)\n",
    "        mus.append(mu)\n",
    "        mb0s.append(mb0)\n",
    "        mb1s.append(mb1)\n",
    "        mb2s.append(mb2)\n",
    "        \n",
    "mbins = numpy.linspace(0, 200, 20)\n",
    "fig, ax = plt.subplots()\n",
    "\n",
    "ax.hist( mus,  bins=mbins, histtype='step', label=r'$m_u$' )\n",
    "ax.hist( mb0s, bins=mbins, histtype='step', label=r'$m_{\\beta=0}$')\n",
    "ax.hist( mb1s, bins=mbins, histtype='step', label=r'$m_{\\beta=1}$')\n",
    "ax.hist( mb2s, bins=mbins, histtype='step', label=r'$m_{\\beta=2}$')\n",
    "legend = ax.legend(loc='upper right', shadow=False, fontsize='x-large')\n",
    "plt.show()"
   ]
  },
  {
   "cell_type": "code",
   "execution_count": null,
   "metadata": {},
   "outputs": [],
   "source": []
  },
  {
   "cell_type": "code",
   "execution_count": null,
   "metadata": {},
   "outputs": [],
   "source": []
  }
 ],
 "metadata": {
  "kernelspec": {
   "display_name": "Python 2",
   "language": "python",
   "name": "python2"
  },
  "language_info": {
   "codemirror_mode": {
    "name": "ipython",
    "version": 2
   },
   "file_extension": ".py",
   "mimetype": "text/x-python",
   "name": "python",
   "nbconvert_exporter": "python",
   "pygments_lexer": "ipython2",
   "version": "2.7.12"
  }
 },
 "nbformat": 4,
 "nbformat_minor": 2
}
